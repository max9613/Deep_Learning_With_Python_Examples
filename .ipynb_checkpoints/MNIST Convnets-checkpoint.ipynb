{
 "cells": [
  {
   "cell_type": "code",
   "execution_count": 1,
   "metadata": {},
   "outputs": [
    {
     "name": "stderr",
     "output_type": "stream",
     "text": [
      "Using TensorFlow backend.\n"
     ]
    }
   ],
   "source": [
    "# Import Statements\n",
    "import numpy as np\n",
    "from keras import layers\n",
    "from keras import models\n",
    "from keras.datasets import mnist\n",
    "from keras.utils import to_categorical"
   ]
  },
  {
   "cell_type": "code",
   "execution_count": 48,
   "metadata": {},
   "outputs": [],
   "source": [
    "# Download of mnist data\n",
    "(train_images, train_labels), (test_images, test_labels) = mnist.load_data()"
   ]
  },
  {
   "cell_type": "code",
   "execution_count": 49,
   "metadata": {},
   "outputs": [
    {
     "data": {
      "text/plain": [
       "(10000, 28, 28)"
      ]
     },
     "execution_count": 49,
     "metadata": {},
     "output_type": "execute_result"
    }
   ],
   "source": [
    "test_images.shape"
   ]
  },
  {
   "cell_type": "code",
   "execution_count": 50,
   "metadata": {},
   "outputs": [],
   "source": [
    "# Prepare data for training\n",
    "train_images = train_images.reshape((60000, 28, 28, 1))\n",
    "train_images = train_images.astype('float32') / 255\n",
    "\n",
    "test_images = test_images.reshape((10000, 28, 28, 1))\n",
    "test_images = test_images.astype('float32') / 255\n",
    "\n",
    "train_labels = to_categorical(train_labels)\n",
    "test_labels = to_categorical(test_labels)"
   ]
  },
  {
   "cell_type": "code",
   "execution_count": 55,
   "metadata": {},
   "outputs": [],
   "source": [
    "# Model declaration\n",
    "model = models.Sequential()\n",
    "model.add(layers.Conv2D(32, (3, 3), activation='relu', input_shape=(28, 28, 1)))\n",
    "model.add(layers.MaxPooling2D((2, 2)))\n",
    "model.add(layers.Conv2D(64, (3, 3), activation='relu'))\n",
    "model.add(layers.MaxPooling2D((2, 2)))\n",
    "model.add(layers.Conv2D(64, (3, 3), activation='relu'))\n",
    "model.add(layers.Flatten())\n",
    "model.add(layers.Dense(64, activation='relu'))\n",
    "model.add(layers.Dense(10, activation='softmax'))\n",
    "model.compile(optimizer='rmsprop',loss='categorical_crossentropy',metrics=['acc'])"
   ]
  },
  {
   "cell_type": "code",
   "execution_count": 56,
   "metadata": {},
   "outputs": [
    {
     "name": "stdout",
     "output_type": "stream",
     "text": [
      "_________________________________________________________________\n",
      "Layer (type)                 Output Shape              Param #   \n",
      "=================================================================\n",
      "conv2d_16 (Conv2D)           (None, 26, 26, 32)        320       \n",
      "_________________________________________________________________\n",
      "max_pooling2d_11 (MaxPooling (None, 13, 13, 32)        0         \n",
      "_________________________________________________________________\n",
      "conv2d_17 (Conv2D)           (None, 11, 11, 64)        18496     \n",
      "_________________________________________________________________\n",
      "max_pooling2d_12 (MaxPooling (None, 5, 5, 64)          0         \n",
      "_________________________________________________________________\n",
      "conv2d_18 (Conv2D)           (None, 3, 3, 64)          36928     \n",
      "_________________________________________________________________\n",
      "flatten_6 (Flatten)          (None, 576)               0         \n",
      "_________________________________________________________________\n",
      "dense_11 (Dense)             (None, 64)                36928     \n",
      "_________________________________________________________________\n",
      "dense_12 (Dense)             (None, 10)                650       \n",
      "=================================================================\n",
      "Total params: 93,322\n",
      "Trainable params: 93,322\n",
      "Non-trainable params: 0\n",
      "_________________________________________________________________\n"
     ]
    }
   ],
   "source": [
    "# Model summary\n",
    "model.summary()"
   ]
  },
  {
   "cell_type": "code",
   "execution_count": 57,
   "metadata": {},
   "outputs": [
    {
     "name": "stdout",
     "output_type": "stream",
     "text": [
      "Train on 51000 samples, validate on 9000 samples\n",
      "Epoch 1/50\n",
      "51000/51000 [==============================] - 4s 80us/step - loss: 0.1928 - acc: 0.9396 - val_loss: 0.0708 - val_acc: 0.9793\n",
      "Epoch 2/50\n",
      "51000/51000 [==============================] - 4s 71us/step - loss: 0.0506 - acc: 0.9844 - val_loss: 0.0669 - val_acc: 0.9807\n",
      "Epoch 3/50\n",
      "51000/51000 [==============================] - 4s 72us/step - loss: 0.0333 - acc: 0.9895 - val_loss: 0.0522 - val_acc: 0.9870\n",
      "Epoch 4/50\n",
      "51000/51000 [==============================] - 4s 72us/step - loss: 0.0252 - acc: 0.9919 - val_loss: 0.0407 - val_acc: 0.9891\n",
      "Epoch 5/50\n",
      "51000/51000 [==============================] - 4s 71us/step - loss: 0.0208 - acc: 0.9937 - val_loss: 0.0418 - val_acc: 0.9889\n",
      "Epoch 6/50\n",
      "51000/51000 [==============================] - 4s 71us/step - loss: 0.0161 - acc: 0.9952 - val_loss: 0.0397 - val_acc: 0.9906\n",
      "Epoch 7/50\n",
      "51000/51000 [==============================] - 4s 72us/step - loss: 0.0140 - acc: 0.9958 - val_loss: 0.0363 - val_acc: 0.9911\n",
      "Epoch 8/50\n",
      "51000/51000 [==============================] - 4s 72us/step - loss: 0.0110 - acc: 0.9967 - val_loss: 0.0414 - val_acc: 0.9898\n",
      "Epoch 9/50\n",
      "51000/51000 [==============================] - 4s 70us/step - loss: 0.0089 - acc: 0.9971 - val_loss: 0.0477 - val_acc: 0.9900\n",
      "Epoch 10/50\n",
      "51000/51000 [==============================] - 4s 70us/step - loss: 0.0076 - acc: 0.9976 - val_loss: 0.0505 - val_acc: 0.9899\n",
      "Epoch 11/50\n",
      "51000/51000 [==============================] - 4s 70us/step - loss: 0.0065 - acc: 0.9980 - val_loss: 0.0531 - val_acc: 0.9903\n",
      "Epoch 12/50\n",
      "51000/51000 [==============================] - 4s 70us/step - loss: 0.0056 - acc: 0.9982 - val_loss: 0.0501 - val_acc: 0.9916\n",
      "Epoch 13/50\n",
      "51000/51000 [==============================] - 4s 70us/step - loss: 0.0052 - acc: 0.9983 - val_loss: 0.0511 - val_acc: 0.9916\n",
      "Epoch 14/50\n",
      "51000/51000 [==============================] - 4s 70us/step - loss: 0.0056 - acc: 0.9985 - val_loss: 0.0498 - val_acc: 0.9908\n",
      "Epoch 15/50\n",
      "51000/51000 [==============================] - 4s 70us/step - loss: 0.0043 - acc: 0.9986 - val_loss: 0.0635 - val_acc: 0.9897\n",
      "Epoch 16/50\n",
      "51000/51000 [==============================] - 4s 70us/step - loss: 0.0047 - acc: 0.9986 - val_loss: 0.0626 - val_acc: 0.9901\n",
      "Epoch 17/50\n",
      "51000/51000 [==============================] - 4s 70us/step - loss: 0.0033 - acc: 0.9990 - val_loss: 0.0649 - val_acc: 0.9914\n",
      "Epoch 18/50\n",
      "51000/51000 [==============================] - 4s 70us/step - loss: 0.0023 - acc: 0.9993 - val_loss: 0.0630 - val_acc: 0.9916\n",
      "Epoch 19/50\n",
      "51000/51000 [==============================] - 4s 70us/step - loss: 0.0030 - acc: 0.9993 - val_loss: 0.0784 - val_acc: 0.9909\n",
      "Epoch 20/50\n",
      "51000/51000 [==============================] - 4s 70us/step - loss: 0.0035 - acc: 0.9989 - val_loss: 0.0838 - val_acc: 0.9907\n",
      "Epoch 21/50\n",
      "51000/51000 [==============================] - 4s 70us/step - loss: 0.0030 - acc: 0.9992 - val_loss: 0.0676 - val_acc: 0.9906\n",
      "Epoch 22/50\n",
      "51000/51000 [==============================] - 4s 70us/step - loss: 0.0026 - acc: 0.9992 - val_loss: 0.0876 - val_acc: 0.9909\n",
      "Epoch 23/50\n",
      "51000/51000 [==============================] - 4s 70us/step - loss: 0.0029 - acc: 0.9991 - val_loss: 0.0872 - val_acc: 0.9909\n",
      "Epoch 24/50\n",
      "51000/51000 [==============================] - 4s 70us/step - loss: 0.0030 - acc: 0.9992 - val_loss: 0.0874 - val_acc: 0.9901\n",
      "Epoch 25/50\n",
      "51000/51000 [==============================] - 4s 70us/step - loss: 0.0018 - acc: 0.9994 - val_loss: 0.0867 - val_acc: 0.9901\n",
      "Epoch 26/50\n",
      "51000/51000 [==============================] - 4s 70us/step - loss: 0.0026 - acc: 0.9994 - val_loss: 0.0695 - val_acc: 0.9909\n",
      "Epoch 27/50\n",
      "51000/51000 [==============================] - 4s 70us/step - loss: 0.0025 - acc: 0.9995 - val_loss: 0.0979 - val_acc: 0.9903\n",
      "Epoch 28/50\n",
      "51000/51000 [==============================] - 4s 70us/step - loss: 0.0024 - acc: 0.9995 - val_loss: 0.0806 - val_acc: 0.9904\n",
      "Epoch 29/50\n",
      "51000/51000 [==============================] - 4s 70us/step - loss: 0.0017 - acc: 0.9995 - val_loss: 0.0908 - val_acc: 0.9906\n",
      "Epoch 30/50\n",
      "51000/51000 [==============================] - 4s 70us/step - loss: 0.0028 - acc: 0.9993 - val_loss: 0.0835 - val_acc: 0.9917\n",
      "Epoch 31/50\n",
      "51000/51000 [==============================] - 4s 70us/step - loss: 0.0019 - acc: 0.9997 - val_loss: 0.0856 - val_acc: 0.9904\n",
      "Epoch 32/50\n",
      "51000/51000 [==============================] - 4s 70us/step - loss: 0.0018 - acc: 0.9995 - val_loss: 0.0956 - val_acc: 0.9906\n",
      "Epoch 33/50\n",
      "51000/51000 [==============================] - 4s 70us/step - loss: 0.0019 - acc: 0.9995 - val_loss: 0.0856 - val_acc: 0.9907\n",
      "Epoch 34/50\n",
      "51000/51000 [==============================] - 4s 70us/step - loss: 0.0019 - acc: 0.9996 - val_loss: 0.1046 - val_acc: 0.9906\n",
      "Epoch 35/50\n",
      "51000/51000 [==============================] - 4s 70us/step - loss: 0.0019 - acc: 0.9996 - val_loss: 0.0951 - val_acc: 0.9908\n",
      "Epoch 36/50\n",
      "51000/51000 [==============================] - 4s 70us/step - loss: 0.0032 - acc: 0.9994 - val_loss: 0.0802 - val_acc: 0.9910\n",
      "Epoch 37/50\n",
      "51000/51000 [==============================] - 4s 70us/step - loss: 0.0019 - acc: 0.9996 - val_loss: 0.0919 - val_acc: 0.9910\n",
      "Epoch 38/50\n",
      "51000/51000 [==============================] - 4s 70us/step - loss: 0.0023 - acc: 0.9996 - val_loss: 0.1165 - val_acc: 0.9891\n",
      "Epoch 39/50\n",
      "51000/51000 [==============================] - 4s 70us/step - loss: 0.0020 - acc: 0.9995 - val_loss: 0.0807 - val_acc: 0.9926\n",
      "Epoch 40/50\n",
      "51000/51000 [==============================] - 4s 70us/step - loss: 0.0015 - acc: 0.9997 - val_loss: 0.0957 - val_acc: 0.9908\n",
      "Epoch 41/50\n",
      "51000/51000 [==============================] - 4s 70us/step - loss: 0.0025 - acc: 0.9995 - val_loss: 0.1022 - val_acc: 0.9903\n",
      "Epoch 42/50\n",
      "51000/51000 [==============================] - 4s 70us/step - loss: 0.0024 - acc: 0.9995 - val_loss: 0.0975 - val_acc: 0.9903\n",
      "Epoch 43/50\n",
      "51000/51000 [==============================] - 4s 70us/step - loss: 0.0015 - acc: 0.9996 - val_loss: 0.1007 - val_acc: 0.9913\n",
      "Epoch 44/50\n",
      "51000/51000 [==============================] - 4s 70us/step - loss: 0.0024 - acc: 0.9996 - val_loss: 0.0907 - val_acc: 0.9910\n",
      "Epoch 45/50\n",
      "51000/51000 [==============================] - 4s 70us/step - loss: 6.3710e-04 - acc: 0.9998 - val_loss: 0.1036 - val_acc: 0.9908\n",
      "Epoch 46/50\n",
      "51000/51000 [==============================] - 4s 70us/step - loss: 0.0014 - acc: 0.9997 - val_loss: 0.0965 - val_acc: 0.9909\n",
      "Epoch 47/50\n",
      "51000/51000 [==============================] - 4s 70us/step - loss: 0.0012 - acc: 0.9997 - val_loss: 0.1300 - val_acc: 0.9882\n",
      "Epoch 48/50\n",
      "51000/51000 [==============================] - 4s 70us/step - loss: 0.0016 - acc: 0.9997 - val_loss: 0.1034 - val_acc: 0.9914\n",
      "Epoch 49/50\n",
      "51000/51000 [==============================] - 4s 70us/step - loss: 0.0028 - acc: 0.9995 - val_loss: 0.1054 - val_acc: 0.9910\n",
      "Epoch 50/50\n",
      "51000/51000 [==============================] - 4s 70us/step - loss: 8.3764e-04 - acc: 0.9998 - val_loss: 0.1007 - val_acc: 0.9909\n"
     ]
    },
    {
     "data": {
      "text/plain": [
       "<keras.callbacks.History at 0x1ebfdffb0b8>"
      ]
     },
     "execution_count": 57,
     "metadata": {},
     "output_type": "execute_result"
    }
   ],
   "source": [
    "# Trains model\n",
    "model.fit(train_images,train_labels,epochs=50,batch_size=64,validation_split=0.15)"
   ]
  },
  {
   "cell_type": "code",
   "execution_count": 58,
   "metadata": {},
   "outputs": [
    {
     "name": "stdout",
     "output_type": "stream",
     "text": [
      "10000/10000 [==============================] - 0s 47us/step\n",
      "Loss : 0.08471200217771117 | Accuracy : 0.9919\n"
     ]
    }
   ],
   "source": [
    "# Tests model\n",
    "test_loss, test_acc = model.evaluate(test_images, test_labels)\n",
    "print(f'Loss : {test_loss} | Accuracy : {test_acc}')"
   ]
  },
  {
   "cell_type": "code",
   "execution_count": null,
   "metadata": {},
   "outputs": [],
   "source": []
  }
 ],
 "metadata": {
  "kernelspec": {
   "display_name": "Python 3",
   "language": "python",
   "name": "python3"
  },
  "language_info": {
   "codemirror_mode": {
    "name": "ipython",
    "version": 3
   },
   "file_extension": ".py",
   "mimetype": "text/x-python",
   "name": "python",
   "nbconvert_exporter": "python",
   "pygments_lexer": "ipython3",
   "version": "3.6.6"
  }
 },
 "nbformat": 4,
 "nbformat_minor": 2
}
